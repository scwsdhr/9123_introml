{
 "cells": [
  {
   "cell_type": "markdown",
   "metadata": {},
   "source": [
    "# Lab:  Feature Selection for Linear Regression for Student Performance Data  \n",
    "\n",
    "In this lab we use the UCI dataset of `Student Performance` to use linear regression with LASSO regularization. We will also look at some Feature Selection methods. The dataset is about student achievement in secondary education of two Portuguese schools. The target variable is the student's grade in their Mathematics exam and there are many features such as  demographic (address), social (family, age, sex, etc) and school related (schoolName, study time etc) features. So, we will try to predict the student's grades based on their background.\n",
    "\n",
    "This lab has the following objectives\n",
    "\n",
    "1. Learn about converting the categorical dataset to numerical values.\n",
    "2. Perform LASSO regression and compare the results with simple linear regression.\n",
    "3. Visualize the features obtained by LASSO and the LASSO path.\n",
    "4. Learn another technique for feature selection."
   ]
  },
  {
   "cell_type": "markdown",
   "metadata": {},
   "source": [
    "## Loading the data\n",
    "The dataset is available at \n",
    "<a href = \"https://archive.ics.uci.edu/ml/datasets/Student+Performance\">\n",
    "P. Cortez and A. Silva. Using Data Mining to Predict Secondary School Student Performance. In A. Brito and J. Teixeira Eds., Proceedings of 5th FUture BUsiness TEChnology Conference (FUBUTEC 2008) pp. 5-12, Porto, Portugal, April, 2008, EUROSIS, ISBN 978-9077381-39-7. </a>\n",
    "\n",
    "You need to download the Data Folder which is a `student.zip` file. It contains `student-mat.csv` file which we will use in this lab. You should go through the website to understand the meaning of each feature in the dataset, to be able to interpret your results.\n",
    "\n",
    "We start with loading the basic packages."
   ]
  },
  {
   "cell_type": "code",
   "execution_count": 1,
   "metadata": {},
   "outputs": [],
   "source": [
    "import numpy as np\n",
    "import matplotlib \n",
    "import matplotlib.pyplot as plt\n",
    "%matplotlib inline\n",
    "import pandas as pd"
   ]
  },
  {
   "cell_type": "markdown",
   "metadata": {},
   "source": [
    "Now, use `pd.read_csv(...)` to load the `student-mat.csv` file. Also, print the first 6 samples of dataframe `df`."
   ]
  },
  {
   "cell_type": "code",
   "execution_count": 2,
   "metadata": {},
   "outputs": [
    {
     "data": {
      "text/html": [
       "<div>\n",
       "<style scoped>\n",
       "    .dataframe tbody tr th:only-of-type {\n",
       "        vertical-align: middle;\n",
       "    }\n",
       "\n",
       "    .dataframe tbody tr th {\n",
       "        vertical-align: top;\n",
       "    }\n",
       "\n",
       "    .dataframe thead th {\n",
       "        text-align: right;\n",
       "    }\n",
       "</style>\n",
       "<table border=\"1\" class=\"dataframe\">\n",
       "  <thead>\n",
       "    <tr style=\"text-align: right;\">\n",
       "      <th></th>\n",
       "      <th>school</th>\n",
       "      <th>sex</th>\n",
       "      <th>age</th>\n",
       "      <th>address</th>\n",
       "      <th>famsize</th>\n",
       "      <th>Pstatus</th>\n",
       "      <th>Medu</th>\n",
       "      <th>Fedu</th>\n",
       "      <th>Mjob</th>\n",
       "      <th>Fjob</th>\n",
       "      <th>...</th>\n",
       "      <th>famrel</th>\n",
       "      <th>freetime</th>\n",
       "      <th>goout</th>\n",
       "      <th>Dalc</th>\n",
       "      <th>Walc</th>\n",
       "      <th>health</th>\n",
       "      <th>absences</th>\n",
       "      <th>G1</th>\n",
       "      <th>G2</th>\n",
       "      <th>G3</th>\n",
       "    </tr>\n",
       "  </thead>\n",
       "  <tbody>\n",
       "    <tr>\n",
       "      <th>0</th>\n",
       "      <td>GP</td>\n",
       "      <td>F</td>\n",
       "      <td>18</td>\n",
       "      <td>U</td>\n",
       "      <td>GT3</td>\n",
       "      <td>A</td>\n",
       "      <td>4</td>\n",
       "      <td>4</td>\n",
       "      <td>at_home</td>\n",
       "      <td>teacher</td>\n",
       "      <td>...</td>\n",
       "      <td>4</td>\n",
       "      <td>3</td>\n",
       "      <td>4</td>\n",
       "      <td>1</td>\n",
       "      <td>1</td>\n",
       "      <td>3</td>\n",
       "      <td>6</td>\n",
       "      <td>5</td>\n",
       "      <td>6</td>\n",
       "      <td>6</td>\n",
       "    </tr>\n",
       "    <tr>\n",
       "      <th>1</th>\n",
       "      <td>GP</td>\n",
       "      <td>F</td>\n",
       "      <td>17</td>\n",
       "      <td>U</td>\n",
       "      <td>GT3</td>\n",
       "      <td>T</td>\n",
       "      <td>1</td>\n",
       "      <td>1</td>\n",
       "      <td>at_home</td>\n",
       "      <td>other</td>\n",
       "      <td>...</td>\n",
       "      <td>5</td>\n",
       "      <td>3</td>\n",
       "      <td>3</td>\n",
       "      <td>1</td>\n",
       "      <td>1</td>\n",
       "      <td>3</td>\n",
       "      <td>4</td>\n",
       "      <td>5</td>\n",
       "      <td>5</td>\n",
       "      <td>6</td>\n",
       "    </tr>\n",
       "    <tr>\n",
       "      <th>2</th>\n",
       "      <td>GP</td>\n",
       "      <td>F</td>\n",
       "      <td>15</td>\n",
       "      <td>U</td>\n",
       "      <td>LE3</td>\n",
       "      <td>T</td>\n",
       "      <td>1</td>\n",
       "      <td>1</td>\n",
       "      <td>at_home</td>\n",
       "      <td>other</td>\n",
       "      <td>...</td>\n",
       "      <td>4</td>\n",
       "      <td>3</td>\n",
       "      <td>2</td>\n",
       "      <td>2</td>\n",
       "      <td>3</td>\n",
       "      <td>3</td>\n",
       "      <td>10</td>\n",
       "      <td>7</td>\n",
       "      <td>8</td>\n",
       "      <td>10</td>\n",
       "    </tr>\n",
       "    <tr>\n",
       "      <th>3</th>\n",
       "      <td>GP</td>\n",
       "      <td>F</td>\n",
       "      <td>15</td>\n",
       "      <td>U</td>\n",
       "      <td>GT3</td>\n",
       "      <td>T</td>\n",
       "      <td>4</td>\n",
       "      <td>2</td>\n",
       "      <td>health</td>\n",
       "      <td>services</td>\n",
       "      <td>...</td>\n",
       "      <td>3</td>\n",
       "      <td>2</td>\n",
       "      <td>2</td>\n",
       "      <td>1</td>\n",
       "      <td>1</td>\n",
       "      <td>5</td>\n",
       "      <td>2</td>\n",
       "      <td>15</td>\n",
       "      <td>14</td>\n",
       "      <td>15</td>\n",
       "    </tr>\n",
       "    <tr>\n",
       "      <th>4</th>\n",
       "      <td>GP</td>\n",
       "      <td>F</td>\n",
       "      <td>16</td>\n",
       "      <td>U</td>\n",
       "      <td>GT3</td>\n",
       "      <td>T</td>\n",
       "      <td>3</td>\n",
       "      <td>3</td>\n",
       "      <td>other</td>\n",
       "      <td>other</td>\n",
       "      <td>...</td>\n",
       "      <td>4</td>\n",
       "      <td>3</td>\n",
       "      <td>2</td>\n",
       "      <td>1</td>\n",
       "      <td>2</td>\n",
       "      <td>5</td>\n",
       "      <td>4</td>\n",
       "      <td>6</td>\n",
       "      <td>10</td>\n",
       "      <td>10</td>\n",
       "    </tr>\n",
       "    <tr>\n",
       "      <th>5</th>\n",
       "      <td>GP</td>\n",
       "      <td>M</td>\n",
       "      <td>16</td>\n",
       "      <td>U</td>\n",
       "      <td>LE3</td>\n",
       "      <td>T</td>\n",
       "      <td>4</td>\n",
       "      <td>3</td>\n",
       "      <td>services</td>\n",
       "      <td>other</td>\n",
       "      <td>...</td>\n",
       "      <td>5</td>\n",
       "      <td>4</td>\n",
       "      <td>2</td>\n",
       "      <td>1</td>\n",
       "      <td>2</td>\n",
       "      <td>5</td>\n",
       "      <td>10</td>\n",
       "      <td>15</td>\n",
       "      <td>15</td>\n",
       "      <td>15</td>\n",
       "    </tr>\n",
       "  </tbody>\n",
       "</table>\n",
       "<p>6 rows × 33 columns</p>\n",
       "</div>"
      ],
      "text/plain": [
       "  school sex  age address famsize Pstatus  Medu  Fedu      Mjob      Fjob ...  \\\n",
       "0     GP   F   18       U     GT3       A     4     4   at_home   teacher ...   \n",
       "1     GP   F   17       U     GT3       T     1     1   at_home     other ...   \n",
       "2     GP   F   15       U     LE3       T     1     1   at_home     other ...   \n",
       "3     GP   F   15       U     GT3       T     4     2    health  services ...   \n",
       "4     GP   F   16       U     GT3       T     3     3     other     other ...   \n",
       "5     GP   M   16       U     LE3       T     4     3  services     other ...   \n",
       "\n",
       "  famrel freetime  goout  Dalc  Walc health absences  G1  G2  G3  \n",
       "0      4        3      4     1     1      3        6   5   6   6  \n",
       "1      5        3      3     1     1      3        4   5   5   6  \n",
       "2      4        3      2     2     3      3       10   7   8  10  \n",
       "3      3        2      2     1     1      5        2  15  14  15  \n",
       "4      4        3      2     1     2      5        4   6  10  10  \n",
       "5      5        4      2     1     2      5       10  15  15  15  \n",
       "\n",
       "[6 rows x 33 columns]"
      ]
     },
     "execution_count": 2,
     "metadata": {},
     "output_type": "execute_result"
    }
   ],
   "source": [
    "#TODO\n",
    "df = pd.read_csv('student/student-mat.csv', sep = ';')\n",
    "df.head(6)"
   ]
  },
  {
   "cell_type": "markdown",
   "metadata": {},
   "source": [
    "You can see that the dataset contains a mixture of numerical and categorial features. For our analysis we can convert the categories to a numerical value. We can use two techniques-\n",
    "\n",
    "1. **One-Hot Coding**: Create K new binary features for each categorical feature with K categories.\n",
    "2. **Label Encoder**: Map categorical values of a feature to numericals using whole numbers (0,1,2,...).\n",
    "\n",
    "We first look at the datatype of each features. Use the command `df.dtypes` and display the results.\n"
   ]
  },
  {
   "cell_type": "code",
   "execution_count": 3,
   "metadata": {},
   "outputs": [
    {
     "data": {
      "text/plain": [
       "school        object\n",
       "sex           object\n",
       "age            int64\n",
       "address       object\n",
       "famsize       object\n",
       "Pstatus       object\n",
       "Medu           int64\n",
       "Fedu           int64\n",
       "Mjob          object\n",
       "Fjob          object\n",
       "reason        object\n",
       "guardian      object\n",
       "traveltime     int64\n",
       "studytime      int64\n",
       "failures       int64\n",
       "schoolsup     object\n",
       "famsup        object\n",
       "paid          object\n",
       "activities    object\n",
       "nursery       object\n",
       "higher        object\n",
       "internet      object\n",
       "romantic      object\n",
       "famrel         int64\n",
       "freetime       int64\n",
       "goout          int64\n",
       "Dalc           int64\n",
       "Walc           int64\n",
       "health         int64\n",
       "absences       int64\n",
       "G1             int64\n",
       "G2             int64\n",
       "G3             int64\n",
       "dtype: object"
      ]
     },
     "execution_count": 3,
     "metadata": {},
     "output_type": "execute_result"
    }
   ],
   "source": [
    "df.dtypes"
   ]
  },
  {
   "cell_type": "markdown",
   "metadata": {},
   "source": [
    "Some of the features are of datatype **object**. Use the `select_dtypes` method in Pandas DataFrame to identify the categorical features (features of datatype `object`) and save the name of those features into a list `categorical_features`. Print this list. You should get these set of features: ['school', 'sex', 'address', 'famsize', 'Pstatus', 'Mjob', 'Fjob', 'reason', 'guardian', 'schoolsup', 'famsup', 'paid', 'activities', 'nursery', 'higher', 'internet', 'romantic']"
   ]
  },
  {
   "cell_type": "code",
   "execution_count": 4,
   "metadata": {},
   "outputs": [
    {
     "name": "stdout",
     "output_type": "stream",
     "text": [
      "['school', 'sex', 'address', 'famsize', 'Pstatus', 'Mjob', 'Fjob', 'reason', 'guardian', 'schoolsup', 'famsup', 'paid', 'activities', 'nursery', 'higher', 'internet', 'romantic']\n"
     ]
    }
   ],
   "source": [
    "#TODO\n",
    "\n",
    "categorical_features = np.array(df.select_dtypes(include=object).axes[1]).tolist()\n",
    "print(categorical_features)"
   ]
  },
  {
   "cell_type": "markdown",
   "metadata": {},
   "source": [
    "## One-Hot Coding and Label Encoder\n",
    "For a categorical feature with more than two categories, we should use one-hot-coding (OHC) to convert it to binary features. However, for a categorical feature with only two categories, we should apply Label Encoder.  We first list the features that need OHC and those that need Label Encoder.\n",
    "\n",
    "\n",
    "\n"
   ]
  },
  {
   "cell_type": "code",
   "execution_count": 5,
   "metadata": {},
   "outputs": [],
   "source": [
    "ohc_category = ['Mjob','Fjob','reason','guardian']\n",
    "le_category = ['school', 'sex', 'address', 'famsize', 'Pstatus', 'schoolsup', 'famsup', 'paid', 'activities',\n",
    "       'nursery', 'higher', 'internet', 'romantic']"
   ]
  },
  {
   "cell_type": "markdown",
   "metadata": {},
   "source": [
    "## One-Hot Coding\n",
    "We first use One-Hot Coding to all categorical features. Pandas has a method called `get_dummies()` to do the job. It's interesting that this method is called `get_dummies` because it generates new dummy features corresponding to each categories. Find a new dataframe df_ohc which replace those features in the ohc_category by one-hot coding (apply get_dummies on columns in ohc_category). Also print the first 6 samples of the new dataframe `df_ohc`, and observe and comment on how each categorical feature is converted to multiple binary numerical features."
   ]
  },
  {
   "cell_type": "code",
   "execution_count": 6,
   "metadata": {},
   "outputs": [
    {
     "data": {
      "text/html": [
       "<div>\n",
       "<style scoped>\n",
       "    .dataframe tbody tr th:only-of-type {\n",
       "        vertical-align: middle;\n",
       "    }\n",
       "\n",
       "    .dataframe tbody tr th {\n",
       "        vertical-align: top;\n",
       "    }\n",
       "\n",
       "    .dataframe thead th {\n",
       "        text-align: right;\n",
       "    }\n",
       "</style>\n",
       "<table border=\"1\" class=\"dataframe\">\n",
       "  <thead>\n",
       "    <tr style=\"text-align: right;\">\n",
       "      <th></th>\n",
       "      <th>school</th>\n",
       "      <th>sex</th>\n",
       "      <th>age</th>\n",
       "      <th>address</th>\n",
       "      <th>famsize</th>\n",
       "      <th>Pstatus</th>\n",
       "      <th>Medu</th>\n",
       "      <th>Fedu</th>\n",
       "      <th>traveltime</th>\n",
       "      <th>studytime</th>\n",
       "      <th>...</th>\n",
       "      <th>Fjob_other</th>\n",
       "      <th>Fjob_services</th>\n",
       "      <th>Fjob_teacher</th>\n",
       "      <th>reason_course</th>\n",
       "      <th>reason_home</th>\n",
       "      <th>reason_other</th>\n",
       "      <th>reason_reputation</th>\n",
       "      <th>guardian_father</th>\n",
       "      <th>guardian_mother</th>\n",
       "      <th>guardian_other</th>\n",
       "    </tr>\n",
       "  </thead>\n",
       "  <tbody>\n",
       "    <tr>\n",
       "      <th>0</th>\n",
       "      <td>GP</td>\n",
       "      <td>F</td>\n",
       "      <td>18</td>\n",
       "      <td>U</td>\n",
       "      <td>GT3</td>\n",
       "      <td>A</td>\n",
       "      <td>4</td>\n",
       "      <td>4</td>\n",
       "      <td>2</td>\n",
       "      <td>2</td>\n",
       "      <td>...</td>\n",
       "      <td>0</td>\n",
       "      <td>0</td>\n",
       "      <td>1</td>\n",
       "      <td>1</td>\n",
       "      <td>0</td>\n",
       "      <td>0</td>\n",
       "      <td>0</td>\n",
       "      <td>0</td>\n",
       "      <td>1</td>\n",
       "      <td>0</td>\n",
       "    </tr>\n",
       "    <tr>\n",
       "      <th>1</th>\n",
       "      <td>GP</td>\n",
       "      <td>F</td>\n",
       "      <td>17</td>\n",
       "      <td>U</td>\n",
       "      <td>GT3</td>\n",
       "      <td>T</td>\n",
       "      <td>1</td>\n",
       "      <td>1</td>\n",
       "      <td>1</td>\n",
       "      <td>2</td>\n",
       "      <td>...</td>\n",
       "      <td>1</td>\n",
       "      <td>0</td>\n",
       "      <td>0</td>\n",
       "      <td>1</td>\n",
       "      <td>0</td>\n",
       "      <td>0</td>\n",
       "      <td>0</td>\n",
       "      <td>1</td>\n",
       "      <td>0</td>\n",
       "      <td>0</td>\n",
       "    </tr>\n",
       "    <tr>\n",
       "      <th>2</th>\n",
       "      <td>GP</td>\n",
       "      <td>F</td>\n",
       "      <td>15</td>\n",
       "      <td>U</td>\n",
       "      <td>LE3</td>\n",
       "      <td>T</td>\n",
       "      <td>1</td>\n",
       "      <td>1</td>\n",
       "      <td>1</td>\n",
       "      <td>2</td>\n",
       "      <td>...</td>\n",
       "      <td>1</td>\n",
       "      <td>0</td>\n",
       "      <td>0</td>\n",
       "      <td>0</td>\n",
       "      <td>0</td>\n",
       "      <td>1</td>\n",
       "      <td>0</td>\n",
       "      <td>0</td>\n",
       "      <td>1</td>\n",
       "      <td>0</td>\n",
       "    </tr>\n",
       "    <tr>\n",
       "      <th>3</th>\n",
       "      <td>GP</td>\n",
       "      <td>F</td>\n",
       "      <td>15</td>\n",
       "      <td>U</td>\n",
       "      <td>GT3</td>\n",
       "      <td>T</td>\n",
       "      <td>4</td>\n",
       "      <td>2</td>\n",
       "      <td>1</td>\n",
       "      <td>3</td>\n",
       "      <td>...</td>\n",
       "      <td>0</td>\n",
       "      <td>1</td>\n",
       "      <td>0</td>\n",
       "      <td>0</td>\n",
       "      <td>1</td>\n",
       "      <td>0</td>\n",
       "      <td>0</td>\n",
       "      <td>0</td>\n",
       "      <td>1</td>\n",
       "      <td>0</td>\n",
       "    </tr>\n",
       "    <tr>\n",
       "      <th>4</th>\n",
       "      <td>GP</td>\n",
       "      <td>F</td>\n",
       "      <td>16</td>\n",
       "      <td>U</td>\n",
       "      <td>GT3</td>\n",
       "      <td>T</td>\n",
       "      <td>3</td>\n",
       "      <td>3</td>\n",
       "      <td>1</td>\n",
       "      <td>2</td>\n",
       "      <td>...</td>\n",
       "      <td>1</td>\n",
       "      <td>0</td>\n",
       "      <td>0</td>\n",
       "      <td>0</td>\n",
       "      <td>1</td>\n",
       "      <td>0</td>\n",
       "      <td>0</td>\n",
       "      <td>1</td>\n",
       "      <td>0</td>\n",
       "      <td>0</td>\n",
       "    </tr>\n",
       "    <tr>\n",
       "      <th>5</th>\n",
       "      <td>GP</td>\n",
       "      <td>M</td>\n",
       "      <td>16</td>\n",
       "      <td>U</td>\n",
       "      <td>LE3</td>\n",
       "      <td>T</td>\n",
       "      <td>4</td>\n",
       "      <td>3</td>\n",
       "      <td>1</td>\n",
       "      <td>2</td>\n",
       "      <td>...</td>\n",
       "      <td>1</td>\n",
       "      <td>0</td>\n",
       "      <td>0</td>\n",
       "      <td>0</td>\n",
       "      <td>0</td>\n",
       "      <td>0</td>\n",
       "      <td>1</td>\n",
       "      <td>0</td>\n",
       "      <td>1</td>\n",
       "      <td>0</td>\n",
       "    </tr>\n",
       "  </tbody>\n",
       "</table>\n",
       "<p>6 rows × 46 columns</p>\n",
       "</div>"
      ],
      "text/plain": [
       "  school sex  age address famsize Pstatus  Medu  Fedu  traveltime  studytime  \\\n",
       "0     GP   F   18       U     GT3       A     4     4           2          2   \n",
       "1     GP   F   17       U     GT3       T     1     1           1          2   \n",
       "2     GP   F   15       U     LE3       T     1     1           1          2   \n",
       "3     GP   F   15       U     GT3       T     4     2           1          3   \n",
       "4     GP   F   16       U     GT3       T     3     3           1          2   \n",
       "5     GP   M   16       U     LE3       T     4     3           1          2   \n",
       "\n",
       "        ...        Fjob_other Fjob_services Fjob_teacher reason_course  \\\n",
       "0       ...                 0             0            1             1   \n",
       "1       ...                 1             0            0             1   \n",
       "2       ...                 1             0            0             0   \n",
       "3       ...                 0             1            0             0   \n",
       "4       ...                 1             0            0             0   \n",
       "5       ...                 1             0            0             0   \n",
       "\n",
       "  reason_home reason_other reason_reputation guardian_father guardian_mother  \\\n",
       "0           0            0                 0               0               1   \n",
       "1           0            0                 0               1               0   \n",
       "2           0            1                 0               0               1   \n",
       "3           1            0                 0               0               1   \n",
       "4           1            0                 0               1               0   \n",
       "5           0            0                 1               0               1   \n",
       "\n",
       "   guardian_other  \n",
       "0               0  \n",
       "1               0  \n",
       "2               0  \n",
       "3               0  \n",
       "4               0  \n",
       "5               0  \n",
       "\n",
       "[6 rows x 46 columns]"
      ]
     },
     "execution_count": 6,
     "metadata": {},
     "output_type": "execute_result"
    }
   ],
   "source": [
    "#TODO\n",
    "df_ohc = df.drop(ohc_category, axis=1).join(pd.get_dummies(df[ohc_category]))\n",
    "df_ohc.head(6)"
   ]
  },
  {
   "cell_type": "markdown",
   "metadata": {},
   "source": [
    "## Linear Encoder\n",
    "Now we further convert those in the `df_ohc` data frame that are in the `le_category` using Label Encoder. Find a new dataframe `df_le` which is a copy of dataframe `df_ohc` except that all the binary categorial features are encoded to a numerical value of 0 or 1. You should use the `fit_transform()` method of the `LabelEncoder()`. Print first 6 lines of `df_le`, and make sure the entries in the final data frame are all properly encoded into numerical features.\n"
   ]
  },
  {
   "cell_type": "code",
   "execution_count": 7,
   "metadata": {
    "scrolled": true
   },
   "outputs": [
    {
     "data": {
      "text/html": [
       "<div>\n",
       "<style scoped>\n",
       "    .dataframe tbody tr th:only-of-type {\n",
       "        vertical-align: middle;\n",
       "    }\n",
       "\n",
       "    .dataframe tbody tr th {\n",
       "        vertical-align: top;\n",
       "    }\n",
       "\n",
       "    .dataframe thead th {\n",
       "        text-align: right;\n",
       "    }\n",
       "</style>\n",
       "<table border=\"1\" class=\"dataframe\">\n",
       "  <thead>\n",
       "    <tr style=\"text-align: right;\">\n",
       "      <th></th>\n",
       "      <th>school</th>\n",
       "      <th>sex</th>\n",
       "      <th>age</th>\n",
       "      <th>address</th>\n",
       "      <th>famsize</th>\n",
       "      <th>Pstatus</th>\n",
       "      <th>Medu</th>\n",
       "      <th>Fedu</th>\n",
       "      <th>traveltime</th>\n",
       "      <th>studytime</th>\n",
       "      <th>...</th>\n",
       "      <th>Fjob_other</th>\n",
       "      <th>Fjob_services</th>\n",
       "      <th>Fjob_teacher</th>\n",
       "      <th>reason_course</th>\n",
       "      <th>reason_home</th>\n",
       "      <th>reason_other</th>\n",
       "      <th>reason_reputation</th>\n",
       "      <th>guardian_father</th>\n",
       "      <th>guardian_mother</th>\n",
       "      <th>guardian_other</th>\n",
       "    </tr>\n",
       "  </thead>\n",
       "  <tbody>\n",
       "    <tr>\n",
       "      <th>0</th>\n",
       "      <td>0</td>\n",
       "      <td>0</td>\n",
       "      <td>18</td>\n",
       "      <td>1</td>\n",
       "      <td>0</td>\n",
       "      <td>0</td>\n",
       "      <td>4</td>\n",
       "      <td>4</td>\n",
       "      <td>2</td>\n",
       "      <td>2</td>\n",
       "      <td>...</td>\n",
       "      <td>0</td>\n",
       "      <td>0</td>\n",
       "      <td>1</td>\n",
       "      <td>1</td>\n",
       "      <td>0</td>\n",
       "      <td>0</td>\n",
       "      <td>0</td>\n",
       "      <td>0</td>\n",
       "      <td>1</td>\n",
       "      <td>0</td>\n",
       "    </tr>\n",
       "    <tr>\n",
       "      <th>1</th>\n",
       "      <td>0</td>\n",
       "      <td>0</td>\n",
       "      <td>17</td>\n",
       "      <td>1</td>\n",
       "      <td>0</td>\n",
       "      <td>1</td>\n",
       "      <td>1</td>\n",
       "      <td>1</td>\n",
       "      <td>1</td>\n",
       "      <td>2</td>\n",
       "      <td>...</td>\n",
       "      <td>1</td>\n",
       "      <td>0</td>\n",
       "      <td>0</td>\n",
       "      <td>1</td>\n",
       "      <td>0</td>\n",
       "      <td>0</td>\n",
       "      <td>0</td>\n",
       "      <td>1</td>\n",
       "      <td>0</td>\n",
       "      <td>0</td>\n",
       "    </tr>\n",
       "    <tr>\n",
       "      <th>2</th>\n",
       "      <td>0</td>\n",
       "      <td>0</td>\n",
       "      <td>15</td>\n",
       "      <td>1</td>\n",
       "      <td>1</td>\n",
       "      <td>1</td>\n",
       "      <td>1</td>\n",
       "      <td>1</td>\n",
       "      <td>1</td>\n",
       "      <td>2</td>\n",
       "      <td>...</td>\n",
       "      <td>1</td>\n",
       "      <td>0</td>\n",
       "      <td>0</td>\n",
       "      <td>0</td>\n",
       "      <td>0</td>\n",
       "      <td>1</td>\n",
       "      <td>0</td>\n",
       "      <td>0</td>\n",
       "      <td>1</td>\n",
       "      <td>0</td>\n",
       "    </tr>\n",
       "    <tr>\n",
       "      <th>3</th>\n",
       "      <td>0</td>\n",
       "      <td>0</td>\n",
       "      <td>15</td>\n",
       "      <td>1</td>\n",
       "      <td>0</td>\n",
       "      <td>1</td>\n",
       "      <td>4</td>\n",
       "      <td>2</td>\n",
       "      <td>1</td>\n",
       "      <td>3</td>\n",
       "      <td>...</td>\n",
       "      <td>0</td>\n",
       "      <td>1</td>\n",
       "      <td>0</td>\n",
       "      <td>0</td>\n",
       "      <td>1</td>\n",
       "      <td>0</td>\n",
       "      <td>0</td>\n",
       "      <td>0</td>\n",
       "      <td>1</td>\n",
       "      <td>0</td>\n",
       "    </tr>\n",
       "    <tr>\n",
       "      <th>4</th>\n",
       "      <td>0</td>\n",
       "      <td>0</td>\n",
       "      <td>16</td>\n",
       "      <td>1</td>\n",
       "      <td>0</td>\n",
       "      <td>1</td>\n",
       "      <td>3</td>\n",
       "      <td>3</td>\n",
       "      <td>1</td>\n",
       "      <td>2</td>\n",
       "      <td>...</td>\n",
       "      <td>1</td>\n",
       "      <td>0</td>\n",
       "      <td>0</td>\n",
       "      <td>0</td>\n",
       "      <td>1</td>\n",
       "      <td>0</td>\n",
       "      <td>0</td>\n",
       "      <td>1</td>\n",
       "      <td>0</td>\n",
       "      <td>0</td>\n",
       "    </tr>\n",
       "    <tr>\n",
       "      <th>5</th>\n",
       "      <td>0</td>\n",
       "      <td>1</td>\n",
       "      <td>16</td>\n",
       "      <td>1</td>\n",
       "      <td>1</td>\n",
       "      <td>1</td>\n",
       "      <td>4</td>\n",
       "      <td>3</td>\n",
       "      <td>1</td>\n",
       "      <td>2</td>\n",
       "      <td>...</td>\n",
       "      <td>1</td>\n",
       "      <td>0</td>\n",
       "      <td>0</td>\n",
       "      <td>0</td>\n",
       "      <td>0</td>\n",
       "      <td>0</td>\n",
       "      <td>1</td>\n",
       "      <td>0</td>\n",
       "      <td>1</td>\n",
       "      <td>0</td>\n",
       "    </tr>\n",
       "  </tbody>\n",
       "</table>\n",
       "<p>6 rows × 46 columns</p>\n",
       "</div>"
      ],
      "text/plain": [
       "   school  sex  age  address  famsize  Pstatus  Medu  Fedu  traveltime  \\\n",
       "0       0    0   18        1        0        0     4     4           2   \n",
       "1       0    0   17        1        0        1     1     1           1   \n",
       "2       0    0   15        1        1        1     1     1           1   \n",
       "3       0    0   15        1        0        1     4     2           1   \n",
       "4       0    0   16        1        0        1     3     3           1   \n",
       "5       0    1   16        1        1        1     4     3           1   \n",
       "\n",
       "   studytime       ...        Fjob_other  Fjob_services  Fjob_teacher  \\\n",
       "0          2       ...                 0              0             1   \n",
       "1          2       ...                 1              0             0   \n",
       "2          2       ...                 1              0             0   \n",
       "3          3       ...                 0              1             0   \n",
       "4          2       ...                 1              0             0   \n",
       "5          2       ...                 1              0             0   \n",
       "\n",
       "   reason_course  reason_home  reason_other  reason_reputation  \\\n",
       "0              1            0             0                  0   \n",
       "1              1            0             0                  0   \n",
       "2              0            0             1                  0   \n",
       "3              0            1             0                  0   \n",
       "4              0            1             0                  0   \n",
       "5              0            0             0                  1   \n",
       "\n",
       "   guardian_father  guardian_mother  guardian_other  \n",
       "0                0                1               0  \n",
       "1                1                0               0  \n",
       "2                0                1               0  \n",
       "3                0                1               0  \n",
       "4                1                0               0  \n",
       "5                0                1               0  \n",
       "\n",
       "[6 rows x 46 columns]"
      ]
     },
     "execution_count": 7,
     "metadata": {},
     "output_type": "execute_result"
    }
   ],
   "source": [
    "from sklearn.preprocessing import LabelEncoder\n",
    "\n",
    "#TODO\n",
    "\n",
    "df_le = df_ohc.copy()\n",
    "\n",
    "# Hint: Now use a for loop over the elements in `le_category` and update df_le\n",
    "for cat in le_category:\n",
    "    le = LabelEncoder()\n",
    "    le.fit(np.array(df_le[cat]))\n",
    "    df_le[cat] = le.transform(df_le[cat])\n",
    "df_le.head(6)"
   ]
  },
  {
   "cell_type": "markdown",
   "metadata": {},
   "source": [
    "The dataset has three targets namely G1, G2, and G3 which represents the grades in midterm1, midterm2 and final exams respectively. These variables are highly correlated with each other and therefore, if we use G3 as out target, it is not interesting to include G1 and G2 to our features. For our exercise, we will drop G1,G2, and G3 from the feature list, and use G1 as the target. You could try to use G2 or G3 as the target as well and see what happens, but submit the results with target 'G1' only.  "
   ]
  },
  {
   "cell_type": "code",
   "execution_count": 8,
   "metadata": {},
   "outputs": [],
   "source": [
    "X_df = df_le.drop(['G1','G2','G3'],axis=1)\n",
    "col_names = X_df.columns\n",
    "X = np.array(X_df)\n",
    "y = np.array(df_le['G1'])"
   ]
  },
  {
   "cell_type": "markdown",
   "metadata": {},
   "source": [
    "If there are `nsamples` number of samples and `nfeatures` number of features, use the `shape` method to find them and print their values."
   ]
  },
  {
   "cell_type": "code",
   "execution_count": 9,
   "metadata": {},
   "outputs": [
    {
     "name": "stdout",
     "output_type": "stream",
     "text": [
      "There are 395 number of samples and 43 number of features.\n"
     ]
    }
   ],
   "source": [
    "# TODO \n",
    "(nsamples, nfeatures) = X.shape\n",
    "print(\"There are %d number of samples and %d number of features.\" % (nsamples, nfeatures))"
   ]
  },
  {
   "cell_type": "markdown",
   "metadata": {},
   "source": [
    "## Using Linear Regression\n",
    "\n",
    "Train a linear model using half of the samples and test the trained model using the other half samples. Print the Normalized train and test RSS."
   ]
  },
  {
   "cell_type": "code",
   "execution_count": 10,
   "metadata": {},
   "outputs": [
    {
     "name": "stdout",
     "output_type": "stream",
     "text": [
      "Normalized train RSS is 0.514120.\n",
      "Normalized test RSS is 1.078027.\n"
     ]
    },
    {
     "name": "stderr",
     "output_type": "stream",
     "text": [
      "/usr/local/lib/python3.6/site-packages/scipy/linalg/basic.py:1226: RuntimeWarning: internal gelsd driver lwork query error, required iwork dimension not returned. This is likely the result of LAPACK bug 0038, fixed in LAPACK 3.2.2 (released July 21, 2010). Falling back to 'gelss' driver.\n",
      "  warnings.warn(mesg, RuntimeWarning)\n"
     ]
    }
   ],
   "source": [
    "from sklearn import linear_model\n",
    "\n",
    "# TODO\n",
    "ns_train = nsamples // 2\n",
    "ns_test = nsamples - ns_train\n",
    "Xtr = X[:ns_train]\n",
    "ytr = y[:ns_train]\n",
    "Xts = X[ns_train:]\n",
    "yts = y[ns_train:]\n",
    "\n",
    "regr = linear_model.LinearRegression()\n",
    "regr.fit(Xtr, ytr)\n",
    "\n",
    "y_train = regr.predict(Xtr)\n",
    "train_RSS = np.mean((y_train - ytr) ** 2) / (np.std(ytr) ** 2) \n",
    "print(\"Normalized train RSS is %f.\" % train_RSS)\n",
    "\n",
    "y_test = regr.predict(Xts)\n",
    "test_RSS = np.mean((y_test - yts) ** 2) / (np.std(yts) ** 2) \n",
    "print(\"Normalized test RSS is %f.\" % test_RSS)"
   ]
  },
  {
   "cell_type": "markdown",
   "metadata": {},
   "source": [
    "You should observe that the normalized training RSS is reasonably small, but the testing error is large! One way to understand why this is the case is by printing the coeffcient values. Use the\n",
    "`coef_` method of model `regr` to get the regression coefficients. Print the coefficients in decreasing order of their magnitudes."
   ]
  },
  {
   "cell_type": "code",
   "execution_count": 11,
   "metadata": {},
   "outputs": [
    {
     "name": "stdout",
     "output_type": "stream",
     "text": [
      "[-2.42018633  1.41322947  1.34876693 -1.32217565 -1.0878967  -1.05166117\n",
      " -0.9709538   0.91049692  0.88398883  0.70133622 -0.65949467  0.58617418\n",
      " -0.55594619 -0.54087673  0.51415568 -0.50054604  0.49041546 -0.47882562\n",
      " -0.42154072  0.39086244 -0.35560053  0.33424881  0.30750373 -0.30368204\n",
      " -0.2691571   0.25833785  0.24584255 -0.23744384 -0.21326584  0.19538738\n",
      " -0.18054761  0.15443934  0.133797    0.12218268 -0.11549284  0.09108316\n",
      "  0.08933163  0.08793535  0.07634628 -0.02057175 -0.01289411 -0.01243405\n",
      "  0.        ]\n"
     ]
    }
   ],
   "source": [
    "#TODO\n",
    "print(regr.coef_[np.argsort(-np.abs(regr.coef_))])"
   ]
  },
  {
   "cell_type": "markdown",
   "metadata": {},
   "source": [
    "#### Question:\n",
    "Can you explain in one or two sentences below why the linear regression gives a large test error?"
   ]
  },
  {
   "cell_type": "markdown",
   "metadata": {},
   "source": [
    "#### Type Answer Here:\n",
    "\n",
    "Because there are too many features, i.e. there occurs an underfitting."
   ]
  },
  {
   "cell_type": "markdown",
   "metadata": {},
   "source": [
    "## Using LASSO regression\n",
    "\n",
    "Now let us try to use LASSO regression to select the optimal features. Note that it is extremely important to normalize (standardize) the data for the regularization methods. \n",
    "\n",
    "First use the `preprocessing.scale` method to standardize the data matrix `X` and target `y`.  Store the standardized values in `Xs` and `ys` respectively.    For this data, the `scale` routine may throw a warning that you are converting data types.  That is fine."
   ]
  },
  {
   "cell_type": "code",
   "execution_count": 12,
   "metadata": {},
   "outputs": [
    {
     "name": "stderr",
     "output_type": "stream",
     "text": [
      "/usr/local/lib/python3.6/site-packages/sklearn/utils/validation.py:475: DataConversionWarning: Data with input dtype int64 was converted to float64 by the scale function.\n",
      "  warnings.warn(msg, DataConversionWarning)\n"
     ]
    }
   ],
   "source": [
    "from sklearn import preprocessing\n",
    "\n",
    "# TODO\n",
    "Xs = preprocessing.scale(X)\n",
    "ys = preprocessing.scale(y)"
   ]
  },
  {
   "cell_type": "markdown",
   "metadata": {},
   "source": [
    "Now, use the LASSO method to fit a model.  Use cross validation to select the regularization level `alpha`.  Use 100 `alpha` values logarithmically spaced from `1e-3` to `10`, and use 10 fold cross validation.  Store the test RSS in a matrix `RSSts` with rows correponding to different `alpha` values and columns corresponding to different cross validation folds. "
   ]
  },
  {
   "cell_type": "code",
   "execution_count": 13,
   "metadata": {},
   "outputs": [],
   "source": [
    "import  sklearn.model_selection \n",
    "\n",
    "#TODO\n",
    "# Create a k-fold object\n",
    "nfold = 10\n",
    "kf = sklearn.model_selection.KFold(n_splits=nfold,shuffle=True)\n",
    "\n",
    "# Create the LASSO model.  We use the `warm start` parameter so that the fit will start at the previous value.\n",
    "# This speeds up the fitting.\n",
    "model = linear_model.Lasso(warm_start=True)\n",
    "\n",
    "# Regularization values to test\n",
    "nalpha = 100\n",
    "alphas = np.logspace(-3,1,nalpha)\n",
    "\n",
    "# MSE for each alpha and fold value\n",
    "RSSts = np.zeros((nalpha,nfold))\n",
    "\n",
    "for ifold, ind in enumerate(kf.split(X)):\n",
    "    \n",
    "    # Get the training data in the split\n",
    "    Itr, Its = ind\n",
    "    X_tr = Xs[Itr,:]\n",
    "    y_tr = ys[Itr]\n",
    "    X_ts = Xs[Its,:]\n",
    "    y_ts = ys[Its]\n",
    "    \n",
    "    # Compute the lasso path for the split\n",
    "    for ia, a in enumerate(alphas):\n",
    "        \n",
    "        # Fit the model on the training data\n",
    "        model.alpha = a\n",
    "        model.fit(X_tr, y_tr)\n",
    "        \n",
    "        # Compute the prediction error on the test data\n",
    "        y_ts_pred = model.predict(X_ts)\n",
    "        RSSts[ia, ifold] = np.mean((y_ts_pred - y_ts) ** 2) / (np.std(y_ts) ** 2)"
   ]
  },
  {
   "cell_type": "markdown",
   "metadata": {},
   "source": [
    "Determine the RSS mean and standard error corresponding to different alpha and plot the mean RSS with error bar as a function of alpha. Label the axis."
   ]
  },
  {
   "cell_type": "code",
   "execution_count": 14,
   "metadata": {},
   "outputs": [
    {
     "data": {
      "image/png": "[encoded data removed]",
      "text/plain": [
       "<matplotlib.figure.Figure at 0x10bfd59b0>"
      ]
     },
     "metadata": {},
     "output_type": "display_data"
    }
   ],
   "source": [
    "# TODO\n",
    "RSS_mean = np.mean(RSSts, axis=1)\n",
    "RSS_std = np.std(RSSts, axis=1) / np.sqrt(nfold - 1)\n",
    "plt.semilogx()\n",
    "plt.errorbar(alphas, RSS_mean, yerr=RSS_std, fmt='-')\n",
    "plt.xlabel(r'$\\alpha$')\n",
    "plt.ylabel('Mean RSS')\n",
    "plt.show()"
   ]
  },
  {
   "cell_type": "markdown",
   "metadata": {},
   "source": [
    "Find the optimal `alpha` and the mean test RSS at this optimal point using the one standard error rule."
   ]
  },
  {
   "cell_type": "code",
   "execution_count": 15,
   "metadata": {
    "scrolled": true
   },
   "outputs": [
    {
     "name": "stdout",
     "output_type": "stream",
     "text": [
      "Optimal alpha = 0.065793\n"
     ]
    },
    {
     "data": {
      "image/png": "[encoded data removed]",
      "text/plain": [
       "<matplotlib.figure.Figure at 0x10c5c95c0>"
      ]
     },
     "metadata": {},
     "output_type": "display_data"
    }
   ],
   "source": [
    "# TO DO\n",
    "# Find the minimum MSE and MSE target\n",
    "imin = np.argmin(RSS_mean)\n",
    "RSS_tgt = RSS_mean[imin] + RSS_std[imin]\n",
    "alpha_min = alphas[imin]\n",
    "\n",
    "# Find the least complex model with mse_mean < mse_tgt\n",
    "I = np.where(RSS_mean < RSS_tgt)[0]\n",
    "iopt = I[-1]\n",
    "alpha_opt = alphas[iopt]\n",
    "print(\"Optimal alpha = %f\" % alpha_opt)\n",
    "\n",
    "# Plot the mean MSE and the mean MSE + 1 std dev\n",
    "plt.semilogx(alphas, RSS_mean)\n",
    "plt.semilogx(alphas, RSS_mean+RSS_std)\n",
    "\n",
    "# Plot the MSE target\n",
    "plt.semilogx([alpha_min, alpha_opt], [RSS_tgt, RSS_tgt], 'rs--')\n",
    "\n",
    "# Plot the optimal alpha line\n",
    "plt.semilogx([alpha_opt, alpha_opt], [0.78, RSS_mean[iopt]], 'ro--')\n",
    "\n",
    "plt.legend(['Mean RSS', 'Mean RSS + 1 SE', 'RSS target', 'alpha opt'], loc='upper left')\n",
    "plt.xlabel('alpha')\n",
    "plt.ylabel('Test RSS')\n",
    "plt.ylim([0.78, 1.08])\n",
    "plt.grid()\n",
    "plt.show()"
   ]
  },
  {
   "cell_type": "markdown",
   "metadata": {},
   "source": [
    "## LASSO path\n",
    "\n",
    "To further illustrate the effect of regularization, we conclude by drawing the *LASSO path*.  This is simply a plot of the coefficients as a function of the regularization `alpha`. The path demonstrates the effect of regularization well. Use the `lasso_path` method to obtain all the coefficients for the given range of alphas and plot the LASSO path. Also draw a vertical line at optimal value of alpha."
   ]
  },
  {
   "cell_type": "code",
   "execution_count": 16,
   "metadata": {},
   "outputs": [
    {
     "data": {
      "image/png": "[encoded data removed]",
      "text/plain": [
       "<matplotlib.figure.Figure at 0x10d421d68>"
      ]
     },
     "metadata": {},
     "output_type": "display_data"
    }
   ],
   "source": [
    "# TODO\n",
    "alphas1, coeffs, _ = sklearn.linear_model.lasso_path(Xs, ys, alphas=alphas)\n",
    "\n",
    "# Plot the paths of the coefficients\n",
    "plt.semilogx(alphas1, coeffs.T)\n",
    "plt.grid()\n",
    "#plt.legend(col_names, loc='upper right')\n",
    "\n",
    "\n",
    "# Plot a line on the optimal alpha\n",
    "plt.semilogx([alpha_opt, alpha_opt], [-0.3,0.2], '--')\n",
    "plt.xlabel('alpha')\n",
    "plt.ylabel('coeff')\n",
    "plt.show()"
   ]
  },
  {
   "cell_type": "markdown",
   "metadata": {},
   "source": [
    "### Non-zero LASSO Coefficients\n",
    "Using the above coefficients, Plot the number of non-zero coefficients vs alpha. Also draw a vertical line at optimal value of alpha. You can assume any coefficients with magnitude <= 0.001 to be zero."
   ]
  },
  {
   "cell_type": "code",
   "execution_count": 17,
   "metadata": {},
   "outputs": [
    {
     "data": {
      "image/png": "[encoded data removed]",
      "text/plain": [
       "<matplotlib.figure.Figure at 0x10c5d8160>"
      ]
     },
     "metadata": {},
     "output_type": "display_data"
    }
   ],
   "source": [
    "# TODO\n",
    "\n",
    "# Plot the numbers of the non-zero coefficients\n",
    "plt.semilogx(alphas1, np.sum(np.abs(coeffs) > 0.001, axis=0))\n",
    "plt.grid()\n",
    "\n",
    "# Plot a line on the optimal alpha\n",
    "plt.semilogx([alpha_opt, alpha_opt], [0,40], '--')\n",
    "plt.xlabel('alpha')\n",
    "plt.ylabel('coeff')\n",
    "plt.show()"
   ]
  },
  {
   "cell_type": "markdown",
   "metadata": {},
   "source": [
    "Let us now find out with this optimal alpha, what coefficients are nonzero. Let us consider any coefficients with absoluate value <= 0.001 as zero. You need to first do a model fit using the entire data (`Xs`, `ys`) to find the model coefficients. Then determine and **print** the number of nonzeros (Call it `nfea1`). Finally, **print** the corresponding feature name (Hint: use the list `col_names` obtained previously) with their corresponding coefficient in the order with decreasing coefficient magnitudes."
   ]
  },
  {
   "cell_type": "code",
   "execution_count": 18,
   "metadata": {},
   "outputs": [
    {
     "name": "stdout",
     "output_type": "stream",
     "text": [
      "The number of nonzeros is 15.\n",
      "The corresponding feature names and their corresponding coefficients are as follows.\n",
      "FEATURE NAMES       COEFFICIENTS\n",
      "failures            -0.252643\n",
      "schoolsup           -0.145763\n",
      "Fjob_teacher         0.081575\n",
      "studytime            0.066901\n",
      "Mjob_other          -0.058465\n",
      "goout               -0.057220\n",
      "famsup              -0.050161\n",
      "sex                  0.035477\n",
      "Mjob_services        0.032373\n",
      "Mjob_health          0.031101\n",
      "higher               0.030990\n",
      "Medu                 0.020936\n",
      "Fedu                 0.012106\n",
      "reason_reputation    0.010079\n",
      "Fjob_other          -0.009195\n",
      "guardian_father      0.000000\n",
      "Mjob_at_home        -0.000000\n",
      "Fjob_health          0.000000\n",
      "Fjob_at_home         0.000000\n",
      "Mjob_teacher        -0.000000\n",
      "reason_other        -0.000000\n",
      "reason_home          0.000000\n",
      "reason_course       -0.000000\n",
      "Fjob_services       -0.000000\n",
      "absences             0.000000\n",
      "school              -0.000000\n",
      "Walc                -0.000000\n",
      "age                 -0.000000\n",
      "address              0.000000\n",
      "famsize              0.000000\n",
      "Pstatus             -0.000000\n",
      "traveltime          -0.000000\n",
      "paid                -0.000000\n",
      "health              -0.000000\n",
      "activities           0.000000\n",
      "internet             0.000000\n",
      "romantic            -0.000000\n",
      "famrel               0.000000\n",
      "freetime             0.000000\n",
      "guardian_mother     -0.000000\n",
      "Dalc                -0.000000\n",
      "nursery              0.000000\n",
      "guardian_other       0.000000\n"
     ]
    }
   ],
   "source": [
    "#TO DO\n",
    "\n",
    "#First do a model fit using alpha_opt\n",
    "model = linear_model.Lasso(warm_start=True)\n",
    "model.alpha = alpha_opt\n",
    "model.fit(Xs, ys)\n",
    "\n",
    "# Find model coefficients that are >0.001 and count\n",
    "nfea1 = np.sum(np.abs(model.coef_) > 0.001)\n",
    "print('The number of nonzeros is %d.' % nfea1)\n",
    "\n",
    "# Sort the coeffients in decreasing order and print. \n",
    "sorted_coeff = np.argsort(-np.abs(model.coef_))\n",
    "print('The corresponding feature names and their corresponding coefficients are as follows.')\n",
    "print('%-20s% s' % ('FEATURE NAMES', 'COEFFICIENTS'))\n",
    "for i in sorted_coeff:\n",
    "    print('%-20s% f' % (col_names[i], model.coef_[i]))\n"
   ]
  },
  {
   "cell_type": "markdown",
   "metadata": {},
   "source": [
    "#### Question:\n",
    "Observe the coefficient values carefully. Do they make sense to you? Do you see positive coefficients for features that you think  are likely to increase student performance, and vice versa? Put your answer below. You may need to consult the original datasource, to understand the meaning of each chosen feature.\n"
   ]
  },
  {
   "cell_type": "markdown",
   "metadata": {},
   "source": [
    "#### Type answer here:\n",
    "\n",
    "They do not make sense to me. \n",
    "\n",
    "For example, I thought the sex should have no effect on the student performance, while the corresponding coefficient is non-zero. In the other hand, the school and absences seems to have no influence on the student performance, which is weird."
   ]
  },
  {
   "cell_type": "markdown",
   "metadata": {},
   "source": [
    "# Determine linear predictor with the selected features using the optimal alpha\n",
    "\n",
    "Note that we cannot use the coefficients determined above as is as our predictor, as it is fitted using all data. Also it obtained by minimizing the LASSO loss. With the selected features, we now go through a 10 fold cross validation to determine the predictor coefficients and the estimated test error using the **linear regression** directly."
   ]
  },
  {
   "cell_type": "markdown",
   "metadata": {},
   "source": [
    "First get new feature array only containing these chosen features and name it *X_new*. Print a few lines to make sure that you got the data correctly.\n",
    "\n",
    "Note: You can convert the dataframe into numpy array using `np.array(...)`"
   ]
  },
  {
   "cell_type": "code",
   "execution_count": 19,
   "metadata": {},
   "outputs": [
    {
     "name": "stdout",
     "output_type": "stream",
     "text": [
      "[[0 4 4 2 0 1 0 1 4 0 0 0 0 1 0]\n",
      " [0 1 1 2 0 0 1 1 3 0 0 0 1 0 0]\n",
      " [0 1 1 2 3 1 0 1 2 0 0 0 1 0 0]\n",
      " [0 4 2 3 0 0 1 1 2 1 0 0 0 0 0]\n",
      " [0 3 3 2 0 0 1 1 2 0 1 0 1 0 0]\n",
      " [1 4 3 2 0 0 1 1 2 0 0 1 1 0 1]]\n"
     ]
    }
   ],
   "source": [
    "# TO DO\n",
    "col_names_new = col_names[np.abs(model.coef_) > 0.001]\n",
    "X_new = np.array(X_df[col_names_new])\n",
    "print(X_new[0:6])"
   ]
  },
  {
   "cell_type": "markdown",
   "metadata": {},
   "source": [
    "Now compute the mean predictor coefficients and mean test error using 10 fold cross validation. For this part, you can use the linear predictor on the original features (not scaled) directly, or using the scaled data. Using the scaled data enables you to judge the importance of featurs based on the coefficient magnitude. Therefore let us use scaled data. \n",
    "\n",
    "Store the mean coefficients in `coeff_mean` and the mean intercept in `intercept_mean`. Print them along with the feature names. Also print the mean and std of RSS.\n",
    "\n",
    "Hint: Get the intercept using `regr.intercept_` attribute."
   ]
  },
  {
   "cell_type": "code",
   "execution_count": 20,
   "metadata": {},
   "outputs": [
    {
     "name": "stdout",
     "output_type": "stream",
     "text": [
      "Done!\n",
      "FEATURE NAMES       COEFFICIENTS MEAN   \n",
      "sex                  0.124920\n",
      "Medu                 0.004095\n",
      "Fedu                 0.049071\n",
      "studytime            0.151906\n",
      "failures            -0.281982\n",
      "schoolsup           -0.205576\n",
      "famsup              -0.143570\n",
      "higher               0.081456\n",
      "goout               -0.124690\n",
      "Mjob_health          0.116241\n",
      "Mjob_other          -0.061608\n",
      "Mjob_services        0.116099\n",
      "Fjob_other          -0.037186\n",
      "Fjob_teacher         0.141587\n",
      "reason_reputation    0.065919\n",
      "The mean of intercept is 0.000275.\n",
      "The mean of RSS is 0.775050.\n",
      "The std of RSS is 0.147311.\n"
     ]
    }
   ],
   "source": [
    "# Scale the data\n",
    "Xs_new = preprocessing.scale(X_new)\n",
    "\n",
    "# TODO\n",
    "# 10 fold CV using the linear regression model to find the RSS and coef using each fold \n",
    "\n",
    "# Hint: First set up arrays to store the test errors and coefficients then go through a loop of 10 folds\n",
    "\n",
    "from IPython.display import clear_output\n",
    "\n",
    "# Create a k-fold object\n",
    "nfold = 10\n",
    "kf = sklearn.model_selection.KFold(n_splits=nfold, shuffle=True)\n",
    "\n",
    "# Model orders to be tested\n",
    "RSSts = np.zeros((nfold, 1))\n",
    "coef = np.zeros((nfold, nfea1))\n",
    "intercept = np.zeros((nfold, 1))\n",
    "\n",
    "# Loop over the folds\n",
    "for ifold, ind in enumerate(kf.split(Xs_new)):\n",
    "    # Print loading\n",
    "    i = round(ifold / nfold * 100)\n",
    "    load_str = '>' * (i // 2) + ' ' * ((99 - i) // 2)\n",
    "    clear_output(wait=True)\n",
    "    print('\\r' + load_str + '[%s%%]' % i)\n",
    "    \n",
    "    # Get the training data in the split\n",
    "    Itr, Its = ind\n",
    "    \n",
    "    #kf.split( ) returns Ind, which contains the indices to the training and testing d \n",
    "    X_tr = Xs_new[Itr]\n",
    "    y_tr = ys[Itr]\n",
    "    X_ts = Xs_new[Its]\n",
    "    y_ts = ys[Its]\n",
    "    \n",
    "    regr.fit(X_tr, y_tr)\n",
    "    y_ts_pred = regr.predict(X_ts)\n",
    "    RSSts[ifold] = np.mean((y_ts_pred - y_ts) ** 2) / (np.std(y_ts) ** 2)\n",
    "    coef[ifold] = regr.coef_\n",
    "    intercept[ifold] = regr.intercept_\n",
    "    \n",
    "coef_mean = np.mean(coef, axis=0)\n",
    "intercept_mean = np.mean(intercept, axis=0)\n",
    "\n",
    "clear_output()\n",
    "print('Done!')\n",
    "\n",
    "print('%-20s%-20s' % ('FEATURE NAMES', 'COEFFICIENTS MEAN'))\n",
    "for i in range(nfea1):\n",
    "    print('%-20s% .6f' % (col_names_new[i], coef_mean[i]))\n",
    "print('The mean of intercept is %f.' % intercept_mean)\n",
    "print('The mean of RSS is %f.' % np.mean(RSSts))\n",
    "print('The std of RSS is %f.' % np.std(RSSts))"
   ]
  },
  {
   "cell_type": "markdown",
   "metadata": {},
   "source": [
    "Using the **mean predictor** above, compute the predicted response variable on the whole data (`Xs_new`). Plot the predicted vs. actual values. Also show a line of 45 degree slope. Also print the normalized RSS.\n",
    "\n",
    "Hint: Use $\\hat{y} = Xs_{new}\\beta+\\beta_0$, where $\\beta$ is the vector `coef_mean` and $\\beta_0$ is `intercept_mean`."
   ]
  },
  {
   "cell_type": "code",
   "execution_count": 21,
   "metadata": {},
   "outputs": [
    {
     "data": {
      "image/png": "[encoded data removed]",
      "text/plain": [
       "<matplotlib.figure.Figure at 0x10d400828>"
      ]
     },
     "metadata": {},
     "output_type": "display_data"
    }
   ],
   "source": [
    "# TO DO\n",
    "# Compute the response and plot\n",
    "\n",
    "yhat = np.dot(Xs_new, coef_mean) + intercept_mean\n",
    "\n",
    "plt.scatter(ys, yhat)\n",
    "plt.xlabel('y')\n",
    "plt.ylabel(r'$\\hat{y}$')\n",
    "ymin = np.min(ys)\n",
    "ymax = np.max(ys)\n",
    "plt.plot([ymin, ymax], [ymin, ymax], 'r-', linewidth=3)\n",
    "plt.show()"
   ]
  },
  {
   "cell_type": "markdown",
   "metadata": {},
   "source": [
    "# Feature Ranking based on F-test and mutual information \n",
    "\n",
    "Rank all the original features (`Xs`) using f-test metric. Print first *nfea1* top ranked feature names. If you wish, you could try other metrics as well (e.g. mutual information). "
   ]
  },
  {
   "cell_type": "code",
   "execution_count": 22,
   "metadata": {},
   "outputs": [
    {
     "name": "stdout",
     "output_type": "stream",
     "text": [
      "['failures' 'schoolsup' 'Medu' 'Fedu' 'higher' 'Fjob_teacher' 'Mjob_other'\n",
      " 'studytime' 'goout' 'Walc' 'Mjob_health' 'Fjob_other' 'reason_reputation'\n",
      " 'Dalc' 'traveltime']\n"
     ]
    }
   ],
   "source": [
    "from sklearn.feature_selection import f_regression\n",
    "\n",
    "# TO DO\n",
    "\n",
    "f_test, _ = f_regression(Xs, ys)\n",
    "f_test /= np.max(f_test)\n",
    "\n",
    "col_names_f = np.array(col_names[np.argsort(-f_test)[0:nfea1]])\n",
    "print(col_names_f)"
   ]
  },
  {
   "cell_type": "markdown",
   "metadata": {},
   "source": [
    "### Test Error with f_test\n",
    "Take the top ranked *nfea1* features, apply linear regression fit in cross validation to find the test error, to see how they compare with LASSO result."
   ]
  },
  {
   "cell_type": "code",
   "execution_count": 23,
   "metadata": {},
   "outputs": [
    {
     "name": "stdout",
     "output_type": "stream",
     "text": [
      "Done!\n",
      "FEATURE NAMES       COEFFICIENTS MEAN   \n",
      "sex                 -0.278358\n",
      "Medu                -0.229665\n",
      "Fedu                 0.014263\n",
      "studytime            0.018558\n",
      "failures             0.067177\n",
      "schoolsup            0.135673\n",
      "famsup              -0.107479\n",
      "higher               0.091371\n",
      "goout               -0.108031\n",
      "Mjob_health         -0.023344\n",
      "Mjob_other           0.065759\n",
      "Mjob_services       -0.045052\n",
      "Fjob_other           0.059431\n",
      "Fjob_teacher         0.019548\n",
      "reason_reputation   -0.030541\n",
      "The mean of intercept is -0.000207.\n",
      "The mean of RSS is 0.794210.\n",
      "The std of RSS is 0.063465.\n"
     ]
    }
   ],
   "source": [
    "# TO DO\n",
    "X_f = np.array(X_df[col_names_f])\n",
    "# Scale the data\n",
    "Xs_f = preprocessing.scale(X_f)\n",
    "\n",
    "# 10 fold CV using the linear regression model to find the RSS and coef using each fold \n",
    "\n",
    "# Hint: First set up arrays to store the test errors and coefficients then go through a loop of 10 folds\n",
    "\n",
    "from IPython.display import clear_output\n",
    "\n",
    "# Create a k-fold object\n",
    "nfold = 10\n",
    "kf = sklearn.model_selection.KFold(n_splits=nfold, shuffle=True)\n",
    "\n",
    "# Model orders to be tested\n",
    "RSSts = np.zeros((nfold, 1))\n",
    "coef = np.zeros((nfold, nfea1))\n",
    "intercept = np.zeros((nfold, 1))\n",
    "\n",
    "# Loop over the folds\n",
    "for ifold, ind in enumerate(kf.split(Xs_new)):\n",
    "    # Print loading\n",
    "    i = round(ifold / nfold * 100)\n",
    "    load_str = '>' * (i // 2) + ' ' * ((99 - i) // 2)\n",
    "    clear_output(wait=True)\n",
    "    print('\\r' + load_str + '[%s%%]' % i)\n",
    "    \n",
    "    # Get the training data in the split\n",
    "    Itr, Its = ind\n",
    "    \n",
    "    #kf.split( ) returns Ind, which contains the indices to the training and testing d \n",
    "    X_tr = Xs_f[Itr]\n",
    "    y_tr = ys[Itr]\n",
    "    X_ts = Xs_f[Its]\n",
    "    y_ts = ys[Its]\n",
    "    \n",
    "    regr.fit(X_tr, y_tr)\n",
    "    y_ts_pred = regr.predict(X_ts)\n",
    "    RSSts[ifold] = np.mean((y_ts_pred - y_ts) ** 2) / (np.std(y_ts) ** 2)\n",
    "    coef[ifold] = regr.coef_\n",
    "    intercept[ifold] = regr.intercept_\n",
    "    \n",
    "coef_mean = np.mean(coef, axis=0)\n",
    "intercept_mean = np.mean(intercept, axis=0)\n",
    "\n",
    "clear_output()\n",
    "print('Done!')\n",
    "\n",
    "print('%-20s%-20s' % ('FEATURE NAMES', 'COEFFICIENTS MEAN'))\n",
    "for i in range(nfea1):\n",
    "    print('%-20s% .6f' % (col_names_new[i], coef_mean[i]))\n",
    "print('The mean of intercept is %f.' % intercept_mean)\n",
    "print('The mean of RSS is %f.' % np.mean(RSSts))\n",
    "print('The std of RSS is %f.' % np.std(RSSts))"
   ]
  },
  {
   "cell_type": "markdown",
   "metadata": {},
   "source": [
    "#### Question:\n",
    "Comment on the features choosen, their corresponding coefficient values, and the test error, in contrast to those obtained with LASSO. Explain why the feature ranking method is generally not as effective as LASSO."
   ]
  },
  {
   "cell_type": "markdown",
   "metadata": {},
   "source": [
    "#### Type answer here: \n",
    "\n",
    "The feature ranking based on F-test is a kind of univariate feature selection. It can only estimate the degree of linear dependency between two random variables. However, LASSO consider several random variables at the same time. So it will have a better result with an optimal $\\alpha$."
   ]
  },
  {
   "cell_type": "markdown",
   "metadata": {},
   "source": [
    "### Test error with MI (Optional)\n",
    "Similarly obtain the test error with MI and compare with LASSO and f_test.\n"
   ]
  },
  {
   "cell_type": "code",
   "execution_count": null,
   "metadata": {},
   "outputs": [],
   "source": [
    "\n",
    "\n"
   ]
  }
 ],
 "metadata": {
  "kernelspec": {
   "display_name": "Python 3",
   "language": "python",
   "name": "python3"
  },
  "language_info": {
   "codemirror_mode": {
    "name": "ipython",
    "version": 3
   },
   "file_extension": ".py",
   "mimetype": "text/x-python",
   "name": "python",
   "nbconvert_exporter": "python",
   "pygments_lexer": "ipython3",
   "version": "3.6.4"
  }
 },
 "nbformat": 4,
 "nbformat_minor": 2
}
