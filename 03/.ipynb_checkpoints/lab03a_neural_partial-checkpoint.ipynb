{
 "cells": [
  {
   "cell_type": "markdown",
   "metadata": {},
   "source": [
    "# Lab:  Model Selection for Neural Data\n",
    "\n",
    "Machine learning is a key tool for neuroscientists to understand how sensory and motor signals are encoded in the brain. In addition to improving our scientific understanding of neural phenomena, understanding neural encoding is critical for brain machine interfaces. In this lab, you will use linear regression with feature selection for performing some simple analysis on real neural signals. \n",
    "\n",
    "Before doing this lab, you should review the ideas in the [polynomial model selection demo](./polyfit.ipynb).  In addition to the concepts in that demo, you will learn to:\n",
    "* Load MATLAB data\n",
    "* Formulate models of different complexities using heuristic model selection\n",
    "* Fit a linear model for the different model orders (= # of features)\n",
    "* Select the optimal features via cross-validation \n",
    "  "
   ]
  },
  {
   "cell_type": "markdown",
   "metadata": {},
   "source": [
    "## Loading the data\n",
    "\n",
    "The data in this lab comes from neural recordings described in:\n",
    "\n",
    "<a href=\"http://jn.physiology.org/content/106/2/764.short\">\n",
    "Stevenson, Ian H., et al. \"Statistical assessment of the stability of neural movement representations.\" Journal of neurophysiology 106.2 (2011): 764-774</a>\n",
    "\n",
    "Neurons are the basic information processing units in the brain.  Neurons communicate with one another via *spikes* or *action potentials* which are brief events where voltage in the neuron rapidly rises then falls.  These spikes trigger the electro-chemical signals between one neuron and another.  In this experiment, the spikes were recorded from 196 neurons in the primary motor cortex (M1) of a monkey using an electrode array implanted onto the surface of a monkey's brain.  During the recording, the monkey performed several reaching tasks and the position and velocity of the hand was recorded as well.  \n",
    "\n",
    "The goal of the experiment is to try to *read the monkey's brain*:  That is, predict the hand position from the neural signals from the motor cortex.\n",
    "\n",
    "We first load the basic packages."
   ]
  },
  {
   "cell_type": "code",
   "execution_count": 1,
   "metadata": {},
   "outputs": [],
   "source": [
    "import numpy as np\n",
    "import matplotlib\n",
    "import matplotlib.pyplot as plt\n",
    "%matplotlib inline"
   ]
  },
  {
   "cell_type": "markdown",
   "metadata": {},
   "source": [
    "The full data is available on the CRCNS website  http://crcns.org/data-sets/movements/dream.  This website has a large number of great datasets and can be used for projects as well.  To make this lab easier, I have pre-processed the data slightly and placed it in the file `StevensonV2.mat`, which is a MATLAB file.  You will need to have this file downloaded in the directory you are working on.\n",
    "\n",
    "Since MATLAB is widely-used, `python` provides method for loading MATLAB `mat` files.  We can use these commands to load the data as follows."
   ]
  },
  {
   "cell_type": "code",
   "execution_count": 2,
   "metadata": {},
   "outputs": [],
   "source": [
    "import scipy.io\n",
    "mat_dict = scipy.io.loadmat('StevensonV2.mat')"
   ]
  },
  {
   "cell_type": "markdown",
   "metadata": {},
   "source": [
    "The returned structure, `mat_dict`, is a dictionary with each of the MATLAB variables that were saved in the `.mat` file.  Use the `.keys()` method to list all the variables."
   ]
  },
  {
   "cell_type": "code",
   "execution_count": 3,
   "metadata": {},
   "outputs": [
    {
     "name": "stdout",
     "output_type": "stream",
     "text": [
      "dict_keys(['__header__', '__version__', '__globals__', 'Publication', 'timeBase', 'spikes', 'time', 'handVel', 'handPos', 'target', 'startBins', 'targets', 'startBinned'])\n"
     ]
    }
   ],
   "source": [
    "#TODO\n",
    "print(mat_dict.keys())"
   ]
  },
  {
   "cell_type": "markdown",
   "metadata": {},
   "source": [
    "We extract two variables, `spikes` and `handPos`, from the dictionary `mat_dict`, which represent the recorded spikes per neuron and the hand position.  We take the transpose of the spikes data so that it is in the form time bins $\\times$ number of neurons.  For the `handPos` data, we take the second component which is the position of monkey's hand."
   ]
  },
  {
   "cell_type": "code",
   "execution_count": 4,
   "metadata": {},
   "outputs": [],
   "source": [
    "X0 = mat_dict['spikes'].T\n",
    "y0 = mat_dict['handPos'][0,:]"
   ]
  },
  {
   "cell_type": "markdown",
   "metadata": {},
   "source": [
    "The `spikes` matrix will be a `nt x nneuron` matrix where `nt` is the number of time bins and `nneuron` is the number of neurons.  Each entry `spikes[k,j]` is the number of spikes in time bin `k` from neuron `j`.  Use the `shape` method to find `nt` and `nneuron` and print the values."
   ]
  },
  {
   "cell_type": "code",
   "execution_count": 5,
   "metadata": {},
   "outputs": [
    {
     "name": "stdout",
     "output_type": "stream",
     "text": [
      "'nt' is 15536.\n",
      "'nneuron' is 196.\n"
     ]
    }
   ],
   "source": [
    "# TODO \n",
    "(nt, nneuron) = X0.shape\n",
    "print(\"\\'nt\\' is %d.\" % X0.shape[0])\n",
    "print(\"\\'nneuron\\' is %d.\" % X0.shape[1])"
   ]
  },
  {
   "cell_type": "markdown",
   "metadata": {},
   "source": [
    "Now extract the `time` variable from the `mat_dict` dictionary.  Reshape this to a 1D array with `nt` components.  Each entry `time[k]` is the starting time of the time bin `k`.  Find the sampling time `tsamp` which is the time between measurements, and `ttotal` which is the total duration of the recording."
   ]
  },
  {
   "cell_type": "code",
   "execution_count": 6,
   "metadata": {},
   "outputs": [
    {
     "name": "stdout",
     "output_type": "stream",
     "text": [
      "[[ 12.591]\n",
      " [ 12.641]\n",
      " [ 12.691]\n",
      " ...\n",
      " [789.241]\n",
      " [789.291]\n",
      " [789.341]]\n",
      "'tsamp' is 0.05.\n",
      "'ttotal' is 776.75.\n"
     ]
    }
   ],
   "source": [
    "# TODO\n",
    "time = mat_dict['time'].reshape(-1, 1)\n",
    "tsamp = np.mean(np.diff(time, axis=0))\n",
    "ttotal = time[-1] - time[0]\n",
    "print(time)\n",
    "print(\"\\'tsamp\\' is %0.2f.\" % tsamp)\n",
    "print(\"\\'ttotal\\' is %0.2f.\" % ttotal)"
   ]
  },
  {
   "cell_type": "markdown",
   "metadata": {},
   "source": [
    "## Linear fitting on all the neurons\n",
    "\n",
    "First divide the data into training and test with approximately half the samples in each.  Let `Xtr` and `ytr` denote the training data and `Xts` and `yts` denote the test data."
   ]
  },
  {
   "cell_type": "code",
   "execution_count": 7,
   "metadata": {},
   "outputs": [],
   "source": [
    "# TODO\n",
    "ntr = nt // 2\n",
    "nts = nt - ntr\n",
    "\n",
    "Xtr = X0[:ntr]\n",
    "ytr = y0[:ntr]\n",
    "Xts = X0[ntr:]\n",
    "yts = y0[ntr:]"
   ]
  },
  {
   "cell_type": "markdown",
   "metadata": {},
   "source": [
    "Now, we begin by trying to fit a simple linear model using *all* the neurons as predictors.  To this end, use the `sklearn.linear_model` package to create a regression object, and fit the linear model to the training data."
   ]
  },
  {
   "cell_type": "code",
   "execution_count": 8,
   "metadata": {},
   "outputs": [
    {
     "name": "stderr",
     "output_type": "stream",
     "text": [
      "/usr/local/lib/python3.6/site-packages/scipy/linalg/basic.py:1226: RuntimeWarning: internal gelsd driver lwork query error, required iwork dimension not returned. This is likely the result of LAPACK bug 0038, fixed in LAPACK 3.2.2 (released July 21, 2010). Falling back to 'gelss' driver.\n",
      "  warnings.warn(mesg, RuntimeWarning)\n"
     ]
    },
    {
     "data": {
      "text/plain": [
       "LinearRegression(copy_X=True, fit_intercept=True, n_jobs=1, normalize=False)"
      ]
     },
     "execution_count": 8,
     "metadata": {},
     "output_type": "execute_result"
    }
   ],
   "source": [
    "import sklearn.linear_model\n",
    "\n",
    "# TODO\n",
    "regr = sklearn.linear_model.LinearRegression()\n",
    "regr.fit(Xtr, ytr)"
   ]
  },
  {
   "cell_type": "markdown",
   "metadata": {},
   "source": [
    "Measure and print the normalized RSS on the test data.  "
   ]
  },
  {
   "cell_type": "code",
   "execution_count": 9,
   "metadata": {},
   "outputs": [
    {
     "name": "stdout",
     "output_type": "stream",
     "text": [
      "Normalized RSS is 0.465803.\n"
     ]
    }
   ],
   "source": [
    "# TODO\n",
    "y_pred = regr.predict(Xts)\n",
    "RSS = np.mean((y_pred - yts)**2)/np.std(yts)**2\n",
    "print(\"Normalized RSS is %f.\" % RSS)"
   ]
  },
  {
   "cell_type": "markdown",
   "metadata": {},
   "source": [
    "You should see that the test error is enormous -- the model does not generalize to the test data at all. "
   ]
  },
  {
   "cell_type": "markdown",
   "metadata": {},
   "source": [
    "## Linear Fitting  with Heuristic Model Selection\n",
    "\n",
    "The above shows that we need a way to reduce the model complexity.  One simple idea is to select only the neurons that individually have a high correlation with the output.   \n",
    "\n",
    "Write code which computes the coefficient of determination, $R^2_k$, for each neuron $k$.  Plot the $R^2_k$ values.  \n",
    "\n",
    "You can use a for loop over each neuron, but if you want to make efficient code try to avoid the for loop and use [python broadcasting](../Basics/numpy_axes_broadcasting.ipynb)."
   ]
  },
  {
   "cell_type": "code",
   "execution_count": 10,
   "metadata": {},
   "outputs": [
    {
     "name": "stderr",
     "output_type": "stream",
     "text": [
      "/usr/local/lib/python3.6/site-packages/ipykernel_launcher.py:7: RuntimeWarning: invalid value encountered in true_divide\n",
      "  import sys\n"
     ]
    },
    {
     "data": {
      "image/png": "[encoded data removed]",
      "text/plain": [
       "<matplotlib.figure.Figure at 0x107cba5c0>"
      ]
     },
     "metadata": {},
     "output_type": "display_data"
    }
   ],
   "source": [
    "# TODO\n",
    "ym = np.mean(ytr)\n",
    "Xm = np.mean(Xtr, axis=0)\n",
    "syy = np.mean((ytr-ym)**2)\n",
    "sxx = np.mean((Xtr-Xm)**2, axis=0)\n",
    "sxy = np.mean((Xtr-Xm)*(ytr-ym)[:,None], axis=0)\n",
    "Rsq = sxy**2/sxx/syy\n",
    "plt.stem(Rsq.T)\n",
    "plt.show()"
   ]
  },
  {
   "cell_type": "markdown",
   "metadata": {},
   "source": [
    "We see that many neurons have low correlation and can probably be discarded from the model.    \n",
    "\n",
    "Use the `np.argsort()` command to find the indices of the `d=50` neurons with the highest $R^2_k$ value.  Put the `d` indices into an array `Isel`.  Print the indices of the neurons with the 10 highest correlations."
   ]
  },
  {
   "cell_type": "code",
   "execution_count": 11,
   "metadata": {},
   "outputs": [
    {
     "name": "stdout",
     "output_type": "stream",
     "text": [
      "The neurons with the ten highest R^2 values are [ 67 126  58 164  41 105 122 177  13 139]\n"
     ]
    }
   ],
   "source": [
    "d = 50  # Number of neurons to use\n",
    "\n",
    "# TODO\n",
    "Isel = np.argsort(Rsq)[-d:]\n",
    "print(\"The neurons with the ten highest R^2 values are\", Isel[-10:])"
   ]
  },
  {
   "cell_type": "markdown",
   "metadata": {},
   "source": [
    "Fit a model using only the `d` neurons selected in the previous step and print both the test RSS per sample and the normalized test RSS."
   ]
  },
  {
   "cell_type": "code",
   "execution_count": 12,
   "metadata": {},
   "outputs": [
    {
     "name": "stdout",
     "output_type": "stream",
     "text": [
      "Test RSS per sample is 0.000980.\n",
      "Normalized test RSS is 0.504026.\n"
     ]
    }
   ],
   "source": [
    "# TODO\n",
    "regr_d = sklearn.linear_model.LinearRegression()\n",
    "regr_d.fit(Xtr[:, Isel], ytr)\n",
    "y_pred_d = regr_d.predict(Xts[:, Isel])\n",
    "RSS_ps_d = np.mean((y_pred_d - yts)**2)\n",
    "RSS_d = RSS_ps_d/np.std(yts)**2\n",
    "print(\"Test RSS per sample is %f.\" % RSS_ps_d)\n",
    "print(\"Normalized test RSS is %f.\" % RSS_d)"
   ]
  },
  {
   "cell_type": "markdown",
   "metadata": {},
   "source": [
    "Create a scatter plot of the predicted vs. actual hand motion on the test data.  On the same plot, plot the line where `yts_hat = yts`."
   ]
  },
  {
   "cell_type": "code",
   "execution_count": 13,
   "metadata": {},
   "outputs": [
    {
     "data": {
      "image/png": "[encoded data removed]",
      "text/plain": [
       "<matplotlib.figure.Figure at 0x106b18da0>"
      ]
     },
     "metadata": {},
     "output_type": "display_data"
    }
   ],
   "source": [
    "# TODO\n",
    "plt.scatter(yts, y_pred_d)\n",
    "plt.xlabel('Actual hand motion')\n",
    "plt.ylabel('Predicted hand motion')\n",
    "ymin = np.min(yts)\n",
    "ymax = np.max(yts)\n",
    "plt.plot([ymin, ymax], [ymin, ymax], 'r-', linewidth=3)\n",
    "plt.show()"
   ]
  },
  {
   "cell_type": "markdown",
   "metadata": {},
   "source": [
    "## Using K-fold cross validation for the optimal number of neurons\n",
    "\n",
    "In the above, we fixed `d=50`.  We can use cross validation to try to determine the best number of neurons to use.  Try model orders with `d=10,20,...,190`.  For each value of `d`, use K-fold validation with 10 folds to estimate the test RSS.  For a data set this size, each fold will take a few seconds to compute, so it may be useful to print the progress."
   ]
  },
  {
   "cell_type": "code",
   "execution_count": 14,
   "metadata": {},
   "outputs": [
    {
     "name": "stdout",
     "output_type": "stream",
     "text": [
      "Done!\n"
     ]
    }
   ],
   "source": [
    "import  sklearn.model_selection \n",
    "\n",
    "# Create a k-fold object\n",
    "nfold = 10\n",
    "kf = sklearn.model_selection.KFold(n_splits=nfold,shuffle=True)\n",
    "\n",
    "# Model orders to be tested\n",
    "dtest = np.arange(10,200,10)\n",
    "nd = len(dtest)\n",
    "\n",
    "# TODO.  \n",
    "from IPython.display import clear_output\n",
    "\n",
    "RSSts = np.zeros((nd,nfold))\n",
    "\n",
    "# Loop over the folds\n",
    "for isplit, Ind in enumerate(kf.split(X0)):\n",
    "    \n",
    "    i = round(isplit / nfold * 100)\n",
    "    load_str = '>' * (i // 2) + ' ' * ((99 - i) // 2)\n",
    "    \n",
    "    clear_output(wait=True)\n",
    "    print('\\r' + load_str + '[%s%%]' % i)\n",
    "        \n",
    "    # Get the training data in the split\n",
    "    Itr, Its = Ind \n",
    "    #kf.split( ) returns Ind, which contains the indices to the training and testing data for each fold \n",
    "    Xtr = X0[Itr]\n",
    "    ytr = y0[Itr]\n",
    "    Xts = X0[Its]\n",
    "    yts = y0[Its]\n",
    "    \n",
    "    # Loop over the model order\n",
    "    for it, d in enumerate(dtest):\n",
    "        ym = np.mean(ytr)\n",
    "        Xm = np.mean(Xtr)\n",
    "        syy = np.mean((ytr-ym)**2)\n",
    "        sxx = np.mean((Xtr-Xm)**2, axis=0)\n",
    "        sxy = np.mean((Xtr-Xm)*(ytr-ym)[:,None], axis=0)\n",
    "        Rsq = sxy**2/sxx/syy\n",
    "        Isel = np.argsort(Rsq)[-d:]\n",
    "    \n",
    "        # Fit data on training data\n",
    "        regr_it = sklearn.linear_model.LinearRegression()\n",
    "        regr_it.fit(Xtr[:, Isel], ytr)\n",
    "        \n",
    "        # Measure RSS on test data\n",
    "        yhat = regr_it.predict(Xts[:,Isel])\n",
    "        RSSts[it, isplit] = np.mean((yhat-yts)**2)\n",
    "        \n",
    "clear_output() \n",
    "print(\"Done!\")"
   ]
  },
  {
   "cell_type": "markdown",
   "metadata": {},
   "source": [
    "Compute the RSS test mean and standard error and plot them as a function of the model order `d` using the `plt.errorbar()` method. "
   ]
  },
  {
   "cell_type": "code",
   "execution_count": 15,
   "metadata": {},
   "outputs": [
    {
     "data": {
      "image/png": "[encoded data removed]",
      "text/plain": [
       "<matplotlib.figure.Figure at 0x10aac75f8>"
      ]
     },
     "metadata": {},
     "output_type": "display_data"
    }
   ],
   "source": [
    "# TODO\n",
    "RSS_mean = np.mean(RSSts, axis=1)\n",
    "RSS_std = np.std(RSSts, axis=1) / np.sqrt(nfold - 1)\n",
    "plt.errorbar(dtest, RSS_mean, yerr=RSS_std, fmt='-')\n",
    "plt.ylim([0.00082, 0.00122])\n",
    "plt.xlabel('Model order')\n",
    "plt.ylabel('Test RSS')\n",
    "plt.grid()\n",
    "plt.show()"
   ]
  },
  {
   "cell_type": "markdown",
   "metadata": {},
   "source": [
    "Find the optimal order using the one standard error rule. Print the optimal value of `d` and the mean test RSS per sample at the optimal `d`.  "
   ]
  },
  {
   "cell_type": "code",
   "execution_count": 16,
   "metadata": {},
   "outputs": [
    {
     "data": {
      "image/png": "[encoded data removed]",
      "text/plain": [
       "<matplotlib.figure.Figure at 0x10ab805f8>"
      ]
     },
     "metadata": {},
     "output_type": "display_data"
    },
    {
     "name": "stdout",
     "output_type": "stream",
     "text": [
      "The estimated model order is 100\n"
     ]
    }
   ],
   "source": [
    "# TODO\n",
    "# Find the minimum RSS target\n",
    "imin = np.argmin(RSS_mean)\n",
    "RSS_tgt = RSS_mean[imin] + RSS_std[imin]\n",
    "\n",
    "# Find the lowest model order below the target\n",
    "I = np.where(RSS_mean <= RSS_tgt)[0]\n",
    "iopt = I[0]\n",
    "dopt = dtest[iopt]\n",
    "\n",
    "plt.errorbar(dtest, RSS_mean, yerr=RSS_std, fmt='-')\n",
    "\n",
    "# Plot the line at the RSS target\n",
    "plt.plot([dtest[0],dtest[imin]], [RSS_tgt, RSS_tgt], '--')\n",
    "\n",
    "# Plot the line at the optimal model order\n",
    "plt.plot([dopt,dopt], [0,0.5], 'g--')\n",
    "\n",
    "plt.ylim([0.00082, 0.00122])\n",
    "plt.xlabel('Model order')\n",
    "plt.ylabel('Test RSS')\n",
    "plt.grid()\n",
    "plt.show()\n",
    "\n",
    "# Print results\n",
    "print(\"The estimated model order is %d\" % dopt)"
   ]
  },
  {
   "cell_type": "markdown",
   "metadata": {},
   "source": [
    "## More Fun\n",
    "\n",
    "You can play around with this and many other neural data sets.  Two things that one can do to further improve the quality of fit are:\n",
    "* Use more time lags in the data.  Instead of predicting the hand motion from the spikes in the previous time, use the spikes in the last few delays.\n",
    "* Add a nonlinearity.  You should see that the predicted hand motion differs from the actual for high values of the actual.  You can improve the fit by adding a nonlinearity on the output.  A polynomial fit would work well here.\n",
    "\n",
    "You do not need to do these, but you can try them if you like."
   ]
  },
  {
   "cell_type": "code",
   "execution_count": 17,
   "metadata": {},
   "outputs": [],
   "source": []
  }
 ],
 "metadata": {
  "anaconda-cloud": {},
  "kernelspec": {
   "display_name": "Python 3",
   "language": "python",
   "name": "python3"
  },
  "language_info": {
   "codemirror_mode": {
    "name": "ipython",
    "version": 3
   },
   "file_extension": ".py",
   "mimetype": "text/x-python",
   "name": "python",
   "nbconvert_exporter": "python",
   "pygments_lexer": "ipython3",
   "version": "3.6.4"
  }
 },
 "nbformat": 4,
 "nbformat_minor": 1
}
