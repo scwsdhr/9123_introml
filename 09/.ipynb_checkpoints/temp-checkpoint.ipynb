{
 "cells": [
  {
   "cell_type": "code",
   "execution_count": 1,
   "metadata": {},
   "outputs": [],
   "source": [
    "import numpy as np\n",
    "import contextlib\n",
    "\n",
    "@contextlib.contextmanager\n",
    "def printoptions(*args, **kwargs):\n",
    "    original = np.get_printoptions()\n",
    "    np.set_printoptions(*args, **kwargs)\n",
    "    yield \n",
    "    np.set_printoptions(**original)"
   ]
  },
  {
   "cell_type": "code",
   "execution_count": 2,
   "metadata": {},
   "outputs": [],
   "source": [
    "X = [[3,2,1],\n",
    "     [2,4,5],\n",
    "     [1,2,3],\n",
    "     [0,2,5]]\n",
    "X = np.matrix(X)"
   ]
  },
  {
   "cell_type": "code",
   "execution_count": 3,
   "metadata": {},
   "outputs": [
    {
     "name": "stdout",
     "output_type": "stream",
     "text": [
      "tide X=\n",
      "[[ 1.5 -0.5 -2.5]\n",
      " [ 0.5  1.5  1.5]\n",
      " [-0.5 -0.5 -0.5]\n",
      " [-1.5 -0.5  1.5]]\n"
     ]
    }
   ],
   "source": [
    "mu = X.mean(axis=0)\n",
    "Xt = X - mu\n",
    "print('tide X=')\n",
    "print(Xt)"
   ]
  },
  {
   "cell_type": "code",
   "execution_count": 4,
   "metadata": {},
   "outputs": [
    {
     "name": "stdout",
     "output_type": "stream",
     "text": [
      "Q=\n",
      "[[ 1.25  0.25 -1.25]\n",
      " [ 0.25  0.75  0.75]\n",
      " [-1.25  0.75  2.75]]\n"
     ]
    }
   ],
   "source": [
    "Q = 1/4 * Xt.T * Xt\n",
    "print('Q=')\n",
    "print(Q)"
   ]
  },
  {
   "cell_type": "code",
   "execution_count": 5,
   "metadata": {},
   "outputs": [
    {
     "name": "stdout",
     "output_type": "stream",
     "text": [
      "Eigenvalues=\n",
      "[3.56166464 1.1733803  0.01495506]\n",
      "Eigenvectors=\n",
      "[[-0.45056922 -0.66677184 -0.59363515]\n",
      " [ 0.19247228 -0.72187235  0.66472154]\n",
      " [ 0.87174641 -0.18524476 -0.45358856]]\n"
     ]
    }
   ],
   "source": [
    "w, v = np.linalg.eig(Q)\n",
    "print('Eigenvalues=')\n",
    "print(w)\n",
    "print('Eigenvectors=')\n",
    "print(v)"
   ]
  },
  {
   "cell_type": "code",
   "execution_count": 6,
   "metadata": {},
   "outputs": [
    {
     "name": "stdout",
     "output_type": "stream",
     "text": [
      "PCA coefficients=\n",
      "[[-2.95145599 -0.17610969 -0.0888421 ]\n",
      " [ 1.37104342 -1.69406159  0.0198819 ]\n",
      " [-0.30682473  0.78694448  0.19125108]\n",
      " [ 1.8872373   1.0832268  -0.12229089]]\n"
     ]
    }
   ],
   "source": [
    "A = Xt * np.linalg.inv(v.T)\n",
    "print('PCA coefficients=')\n",
    "print(A)"
   ]
  },
  {
   "cell_type": "code",
   "execution_count": 7,
   "metadata": {},
   "outputs": [
    {
     "name": "stdout",
     "output_type": "stream",
     "text": [
      "Reconstructed X=\n",
      "[[3. 2. 1.]\n",
      " [2. 4. 5.]\n",
      " [1. 2. 3.]\n",
      " [0. 2. 5.]]\n"
     ]
    }
   ],
   "source": [
    "Xr = A * v.T + mu\n",
    "print('Reconstructed X=')\n",
    "with printoptions(suppress=True):\n",
    "    print(Xr)"
   ]
  },
  {
   "cell_type": "code",
   "execution_count": 8,
   "metadata": {},
   "outputs": [
    {
     "name": "stdout",
     "output_type": "stream",
     "text": [
      "Reconstructed X (with two largest eigenvalue)=\n",
      "[[ 2.94726021  2.05905526  0.95970224]\n",
      " [ 2.0118026   3.98678407  5.0090182 ]\n",
      " [ 1.11353336  1.87287129  3.0867493 ]\n",
      " [-0.07259617  2.08128939  4.94453025]]\n"
     ]
    }
   ],
   "source": [
    "tran = [[1,0,0],\n",
    "        [0,1,0],\n",
    "        [0,0,0]]\n",
    "tran = np.matrix(tran)\n",
    "v2 = v * tran\n",
    "A2 = A * tran\n",
    "Xr2 = A2 * v2.T + mu\n",
    "print('Reconstructed X (with two largest eigenvalue)=')\n",
    "print(Xr2)"
   ]
  },
  {
   "cell_type": "code",
   "execution_count": 9,
   "metadata": {},
   "outputs": [
    {
     "ename": "SyntaxError",
     "evalue": "invalid syntax (<ipython-input-9-241efde5f801>, line 2)",
     "output_type": "error",
     "traceback": [
      "\u001b[0;36m  File \u001b[0;32m\"<ipython-input-9-241efde5f801>\"\u001b[0;36m, line \u001b[0;32m2\u001b[0m\n\u001b[0;31m    e2 = np.power(np.ravel(A):,-1]), 2).sum(axis=0)\u001b[0m\n\u001b[0m                             ^\u001b[0m\n\u001b[0;31mSyntaxError\u001b[0m\u001b[0;31m:\u001b[0m invalid syntax\n"
     ]
    }
   ],
   "source": [
    "e1 = np.power(Xr2 - X, 2).sum()\n",
    "e2 = np.power(np.ravel(A[:,-1]), 2).sum(axis=0)\n",
    "print('The sum of reconstruction error squares=')\n",
    "print(e1)\n",
    "print('The sum of squares of skipped PCA coefficients=')\n",
    "print(e2)"
   ]
  }
 ],
 "metadata": {
  "kernelspec": {
   "display_name": "Python 3",
   "language": "python",
   "name": "python3"
  },
  "language_info": {
   "codemirror_mode": {
    "name": "ipython",
    "version": 3
   },
   "file_extension": ".py",
   "mimetype": "text/x-python",
   "name": "python",
   "nbconvert_exporter": "python",
   "pygments_lexer": "ipython3",
   "version": "3.6.5"
  }
 },
 "nbformat": 4,
 "nbformat_minor": 2
}
